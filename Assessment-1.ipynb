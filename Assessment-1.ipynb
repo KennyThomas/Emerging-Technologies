{
 "cells": [
  {
   "cell_type": "markdown",
   "metadata": {},
   "source": [
    "# Assessment 1 \n",
    "## sqrt2"
   ]
  },
  {
   "cell_type": "code",
   "execution_count": 1,
   "metadata": {},
   "outputs": [
    {
     "name": "stdout",
     "output_type": "stream",
     "text": [
      "1.4142135623730950271424125632818586983491648817919875481779003888601306842716543030228210043498528768"
     ]
    },
    {
     "data": {
      "text/plain": [
       "1.414213562373095e+100"
      ]
     },
     "execution_count": 1,
     "metadata": {},
     "output_type": "execute_result"
    }
   ],
   "source": [
    "def sqrt(x):\n",
    "   \n",
    "\n",
    "    r = x  # number taking in is equal to r \n",
    "    precision = 0.00001  # used for making the square root more precise\n",
    "   \n",
    "    \n",
    "\n",
    "    while abs(x - r * r) > precision:\n",
    "     \n",
    "   \n",
    "        r = (r + x / r) / 2  # newtons method to find a better approximation to get the closest decimal\n",
    "  \n",
    "    \n",
    "    squareRoot = format('%.0f'%r) # format the square root \n",
    "    \n",
    "    \n",
    "    root = str(squareRoot) # turn float into a string\n",
    "    root=list(root)[::1]   # add to a list \n",
    "    \n",
    "    print(root[0], end='') # print the first digit\n",
    "    print(\".\", end='')     # print a decimal point \n",
    "    \n",
    "    for i in range(100):\n",
    "        i+=1\n",
    "        print(root[i], end='')  # print out all other numbers after the 1. \n",
    "        \n",
    "    return r\n",
    "    \n",
    "\n",
    "sqrt(2* 10 **200)  # create the number with 200 digits to get a more specific answer\n",
    "\n"
   ]
  },
  {
   "cell_type": "code",
   "execution_count": 10,
   "metadata": {},
   "outputs": [],
   "source": [
    "#TESTS\n",
    "\n",
    "def sqrtTest(x):\n",
    "   \n",
    "\n",
    "    r = x  # number taking in is equal to r \n",
    "    precision = 0.00001  # used for making the square root more precise\n",
    "   \n",
    "    \n",
    "\n",
    "    while abs(x - r * r) > precision:\n",
    "     \n",
    "   \n",
    "        r = (r + x / r) / 2  # newtons method to find a better approximation to get the closest decimal\n",
    "  \n",
    "    \n",
    "    squareRoot = format('%.0f'%r) # format the square root \n",
    "    \n",
    "    \n",
    "    root = str(squareRoot) # turn float into a string\n",
    "    root=list(root)[::1]   # add to a list \n",
    "    \n",
    "    print(root[0], end='') # print the first digit\n",
    "    print(\".\", end='')     # print a decimal point \n",
    "    \n",
    "    for i in range(100):\n",
    "        i+=1\n",
    "        print(root[i], end='')  # print out all other numbers after the 1. \n",
    "        \n",
    "    return r\n",
    "    \n",
    "\n",
    "#sqrtTest(9* 10 **200)  # Test square root of 9\n",
    "\n",
    "#sqrtTest(36* 10 **200)  # Test square root of 36\n",
    "\n",
    "#sqrtTest(25* 10 **200)  # Test square root of 25\n",
    "\n",
    "#sqrtTest(64* 10 **200)  # Test square root of 64\n"
   ]
  },
  {
   "cell_type": "markdown",
   "metadata": {},
   "source": [
    "# Research into problem\n",
    "\n",
    "## Newtons method\n"
   ]
  },
  {
   "cell_type": "markdown",
   "metadata": {},
   "source": [
    "Newtons method is one of many ways to find the square root of a number.\n",
    "\n",
    "To calculate newtons method.\n",
    "## Step 1\n",
    "First we take in a number e.g 2. \n",
    "To get the 100 decimal places I took in the number \"2 * 10 ** 200\" I did this so the ouput would give enough numbers to get 100 decimal places.\n",
    "\n",
    "## Step 2\n",
    "We then pass the number into the square root alogorithm.\n",
    "This puts the x value into a while loop and iterates the the number till we are left with a number that satisfies.\n",
    "### The way the method works\n",
    "* Take in a value e.g 2.\n",
    "* Iterate multiple times to find a better approximation using r = (r + x / r) / 2.\n",
    "* If the while loop is satisfied using the precision \"0.00001\" exit the while loop.\n",
    "* After this we are left with a big number, I used python format to get rid of the decimal point squareRoot = format('%.0f'%r).\n",
    "* Next I converted the number into a String using  root = str(squareRoot).\n",
    "* I then added this number to a list.    root=list(root)[::1].\n",
    "* After the number is added to the list, grab the first number e.g in this case 1. print(root[0], end='')\n",
    "* Print a decimal point.    print(\".\", end='')\n",
    "* Next we iterate through the rest of the list to get the rest of the numbers. \n",
    "  for i in range(100):\n",
    "        i+=1\n",
    "        print(root[i], end='')  # print out all other numbers after the 1. \n",
    "        \n",
    "    return r\n",
    "   \n",
    "* This number will be the square root. \n",
    "     "
   ]
  },
  {
   "cell_type": "markdown",
   "metadata": {},
   "source": [
    "# References\n",
    "* GMIT lecture videos\n",
    "* Pyton - https://www.python.org/ \n",
    "* Newtons Method - https://hackernoon.com/calculating-the-square-root-of-a-number-using-the-newton-raphson-method-a-how-to-guide-yr4e32zo \n",
    "https://en.wikipedia.org/wiki/Newton%27s_method\n",
    "https://math.mit.edu/~stevenj/18.335/newton-sqrt.pdf\n",
    "* Markdown CheatSheet - https://wordpress.com/support/markdown-quick-reference/\n",
    "* "
   ]
  },
  {
   "cell_type": "code",
   "execution_count": null,
   "metadata": {},
   "outputs": [],
   "source": []
  }
 ],
 "metadata": {
  "kernelspec": {
   "display_name": "Python 3",
   "language": "python",
   "name": "python3"
  },
  "language_info": {
   "codemirror_mode": {
    "name": "ipython",
    "version": 3
   },
   "file_extension": ".py",
   "mimetype": "text/x-python",
   "name": "python",
   "nbconvert_exporter": "python",
   "pygments_lexer": "ipython3",
   "version": "3.8.3"
  }
 },
 "nbformat": 4,
 "nbformat_minor": 4
}
