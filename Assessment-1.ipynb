{
 "cells": [
  {
   "cell_type": "markdown",
   "metadata": {},
   "source": [
    "# Assessment 1 \n",
    "## sqrt2"
   ]
  },
  {
   "cell_type": "code",
   "execution_count": 1,
   "metadata": {},
   "outputs": [
    {
     "name": "stdout",
     "output_type": "stream",
     "text": [
      "1.4142135623730950271424125632818586983491648817919875481779003888601306842716543030228210043498528768"
     ]
    },
    {
     "data": {
      "text/plain": [
       "1.414213562373095e+100"
      ]
     },
     "execution_count": 1,
     "metadata": {},
     "output_type": "execute_result"
    }
   ],
   "source": [
    "def sqrt(x):\n",
    "   \n",
    "\n",
    "    r = x  # number taking in is equal to r \n",
    "    precision = 0.00001  # used for making the square root more precise\n",
    "   \n",
    "    \n",
    "\n",
    "    while abs(x - r * r) > precision:\n",
    "     \n",
    "   \n",
    "        r = (r + x / r) / 2  # newtons method halving the result to get the closest decimal\n",
    "  \n",
    "    \n",
    "    squareRoot = format('%.0f'%r) # format the square root \n",
    "    \n",
    "    \n",
    "    root = str(squareRoot) # turn float into a string\n",
    "    root=list(root)[::1]   # add to a list \n",
    "    \n",
    "    print(root[0], end='') # print the first digit\n",
    "    print(\".\", end='')     # print a decimal point \n",
    "    \n",
    "    for i in range(100):\n",
    "        i+=1\n",
    "        print(root[i], end='')  # print out all other numbers after the 1. \n",
    "        \n",
    "    return r\n",
    "    \n",
    "\n",
    "sqrt(2* 10 **200)  # create the number with 200 digits to get a more specific answer"
   ]
  },
  {
   "cell_type": "markdown",
   "metadata": {},
   "source": [
    "# Research into problem\n",
    "\n",
    "## Newtons method\n"
   ]
  },
  {
   "cell_type": "code",
   "execution_count": null,
   "metadata": {},
   "outputs": [],
   "source": []
  }
 ],
 "metadata": {
  "kernelspec": {
   "display_name": "Python 3",
   "language": "python",
   "name": "python3"
  },
  "language_info": {
   "codemirror_mode": {
    "name": "ipython",
    "version": 3
   },
   "file_extension": ".py",
   "mimetype": "text/x-python",
   "name": "python",
   "nbconvert_exporter": "python",
   "pygments_lexer": "ipython3",
   "version": "3.8.3"
  }
 },
 "nbformat": 4,
 "nbformat_minor": 4
}
